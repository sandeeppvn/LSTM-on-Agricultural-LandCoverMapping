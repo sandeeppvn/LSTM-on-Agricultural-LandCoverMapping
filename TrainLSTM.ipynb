{
 "cells": [
  {
   "cell_type": "code",
   "execution_count": 1,
   "metadata": {},
   "outputs": [],
   "source": [
    "import os\n",
    "import glob\n",
    "import pandas as pd\n",
    "import numpy as np\n",
    "import matplotlib.pyplot as plt\n",
    "from sklearn import preprocessing\n",
    "from sklearn.preprocessing import StandardScaler\n",
    "from sklearn.preprocessing import OneHotEncoder, LabelEncoder\n",
    "from torch.utils.data import TensorDataset, DataLoader\n",
    "from sklearn.model_selection import train_test_split\n",
    "import torch\n",
    "import torch.nn as nn\n",
    "import torch.nn.functional as F\n",
    "from torch.autograd import Variable\n",
    "from sklearn.preprocessing import StandardScaler\n",
    "from torch.utils.tensorboard import SummaryWriter\n",
    "from sklearn.metrics import confusion_matrix"
   ]
  },
  {
   "cell_type": "code",
   "execution_count": 2,
   "metadata": {
    "scrolled": true
   },
   "outputs": [],
   "source": [
    "# Load the interpolated data\n",
    "dataset = pd.read_pickle(\"StudyRegionTraining.pkl\")\n",
    "le = LabelEncoder()\n",
    "dataset['class'] = le.fit_transform(dataset['class'])"
   ]
  },
  {
   "cell_type": "code",
   "execution_count": 3,
   "metadata": {},
   "outputs": [
    {
     "name": "stdout",
     "output_type": "stream",
     "text": [
      "            0     1     2      3     4     5      6     7     8      9  ...  \\\n",
      "0       14985  8739  1065  14985  8739  1065  14985  8739  1065  12682  ...   \n",
      "1       14679  8629  1063  14679  8629  1063  14679  8629  1063  12943  ...   \n",
      "2       14603  8732  1063  14603  8732  1063  14603  8732  1063  12909  ...   \n",
      "3       14591  8810  1062  14591  8810  1062  14591  8810  1062  12870  ...   \n",
      "4       14631  8663  1061  14631  8663  1061  14631  8663  1061  12501  ...   \n",
      "...       ...   ...   ...    ...   ...   ...    ...   ...   ...    ...  ...   \n",
      "254969  15510  8633   199  15510  8633   199  15510  8633   199  16316  ...   \n",
      "254970  15658  8939   200  15658  8939   200  15658  8939   200  15900  ...   \n",
      "254971  14679  9024   186  14679  9024   186  14679  9024   186  20029  ...   \n",
      "254972  14559  8986   187  14559  8986   187  14559  8986   187  19252  ...   \n",
      "254973  14991  9292   187  14991  9292   187  14991  9292   187  17472  ...   \n",
      "\n",
      "          657    658   659    660    661   662    663    664   665  class  \n",
      "0       12882   6041  1064  12243   6586  1064  12243   6586  1064      1  \n",
      "1       13138   6573  1063  13183   6945  1062  13183   6945  1062      1  \n",
      "2       13085   6282  1063  12850   6647  1062  12850   6647  1062      1  \n",
      "3       12838   5894  1062  12567   6296  1061  12567   6296  1061      1  \n",
      "4       13557   7082  1059  13441   6813  1060  13441   6813  1060      1  \n",
      "...       ...    ...   ...    ...    ...   ...    ...    ...   ...    ...  \n",
      "254969  15592  10334   198  15592  10334   198  15592  10334   198      5  \n",
      "254970  15886  10581   200  15886  10581   200  15886  10581   200      5  \n",
      "254971  16129   9134   188  16129   9134   187  16129   9134   187      5  \n",
      "254972  15945   9477   187  15945   9477   187  15945   9477   187      5  \n",
      "254973  15270   9218   188  15270   9218   188  15270   9218   188      5  \n",
      "\n",
      "[254974 rows x 667 columns]\n"
     ]
    }
   ],
   "source": [
    "print(dataset)"
   ]
  },
  {
   "cell_type": "code",
   "execution_count": 4,
   "metadata": {},
   "outputs": [],
   "source": [
    "# Train and test split\n",
    "train, test = train_test_split(dataset, test_size=0.1,shuffle=True)\n",
    "train, val = train_test_split(train, test_size=0.25,shuffle=True)"
   ]
  },
  {
   "cell_type": "code",
   "execution_count": 5,
   "metadata": {},
   "outputs": [],
   "source": [
    "# sc_x = StandardScaler()\n",
    "# train_scaled = pd.DataFrame(sc_x.fit_transform(train.T).T,columns=train.columns)\n",
    "# val_scaled = pd.DataFrame(sc_x.fit_transform(val.T).T,columns=val.columns)\n",
    "# test_scaled=pd.DataFrame(sc_x.fit_transform(test.T).T,columns=test.columns)"
   ]
  },
  {
   "cell_type": "code",
   "execution_count": 6,
   "metadata": {},
   "outputs": [
    {
     "data": {
      "text/plain": [
       "device(type='cuda', index=0)"
      ]
     },
     "execution_count": 6,
     "metadata": {},
     "output_type": "execute_result"
    }
   ],
   "source": [
    "device = torch.device(\"cuda:0\" if torch.cuda.is_available() else \"cpu\")\n",
    "# device=\"cpu\"\n",
    "device"
   ]
  },
  {
   "cell_type": "code",
   "execution_count": 7,
   "metadata": {},
   "outputs": [],
   "source": [
    "seq_len = 222\n",
    "bands = 3\n",
    "# Train loader\n",
    "x_train = train.iloc[:,:-1]\n",
    "y_train = train.iloc[:,-1]\n",
    "X_Train_tensors = Variable(torch.Tensor(x_train.to_numpy()))\n",
    "Y_Train_tensors = Variable(torch.Tensor(y_train.to_numpy()))\n",
    "X_train_tensors_final = torch.reshape(X_Train_tensors, (X_Train_tensors.shape[0],seq_len,bands)).to(device)\n",
    "Y_train_tensors_final = Y_Train_tensors.to(device)\n",
    "train_dataset = TensorDataset(X_train_tensors_final,Y_train_tensors_final) # create your datset\n",
    "train_loader = DataLoader(train_dataset,batch_size=32) # create your dataloader"
   ]
  },
  {
   "cell_type": "code",
   "execution_count": 8,
   "metadata": {},
   "outputs": [],
   "source": [
    "# Val loader\n",
    "x_val = val.iloc[:,:-1]\n",
    "y_val = val.iloc[:,-1]\n",
    "X_val_tensors = Variable(torch.Tensor(x_val.to_numpy()))\n",
    "Y_val_tensors = Variable(torch.Tensor(y_val.to_numpy()))\n",
    "X_val_tensors_final = torch.reshape(X_val_tensors, (X_val_tensors.shape[0],seq_len,bands)).to(device)\n",
    "Y_val_tensors_final = Y_val_tensors.to(device)\n",
    "val_dataset = TensorDataset(X_val_tensors_final,Y_val_tensors_final) # create your datset\n",
    "val_loader = DataLoader(val_dataset,batch_size=32) # create your dataloader"
   ]
  },
  {
   "cell_type": "code",
   "execution_count": 9,
   "metadata": {},
   "outputs": [],
   "source": [
    "# test loader\n",
    "x_test = test.iloc[:,:-1]\n",
    "y_test = test.iloc[:,-1]\n",
    "X_test_tensors = Variable(torch.Tensor(x_test.to_numpy()))\n",
    "Y_test_tensors = Variable(torch.Tensor(y_test.to_numpy()))\n",
    "X_test_tensors_final = torch.reshape(X_test_tensors, (X_test_tensors.shape[0],seq_len,bands)).to(device)\n",
    "# Y_train_tensors_final = torch.reshape(Y_Train_tensors, (Y_Train_tensors.shape[0], 1)).to(device)\n",
    "Y_test_tensors_final = Y_test_tensors.to(device)\n",
    "test_dataset = TensorDataset(X_test_tensors_final,Y_test_tensors_final) # create your datset\n",
    "test_loader = DataLoader(test_dataset,batch_size=32) # create your dataloader"
   ]
  },
  {
   "cell_type": "code",
   "execution_count": 12,
   "metadata": {},
   "outputs": [],
   "source": [
    "# LSTM network\n",
    "class LSTM1(nn.Module):\n",
    "    def __init__(self, num_classes, input_size, hidden_size, num_layers, seq_length):\n",
    "        super(LSTM1, self).__init__()\n",
    "        self.num_classes = num_classes #number of classes\n",
    "        self.num_layers = num_layers #number of layers\n",
    "        self.input_size = input_size #input size\n",
    "        self.hidden_size = hidden_size #hidden state\n",
    "        self.seq_length = seq_length #sequence length\n",
    "        \n",
    "        self.batchNorm = nn.BatchNorm1d(seq_length)\n",
    "        self.lstm = nn.LSTM(input_size=input_size, hidden_size=hidden_size,\n",
    "                          num_layers=num_layers, batch_first=True) #lstm\n",
    "        self.fc_1 =  nn.Linear(hidden_size, 128) #fully connected 1\n",
    "#         self.fc = nn.Linear(128, num_classes) #fully connected last layer\n",
    "\n",
    "        self.relu = nn.ReLU()\n",
    "        self.fc = nn.Linear(hidden_size,num_classes)\n",
    "    \n",
    "    def forward(self,x):\n",
    "        h_0 = Variable(torch.zeros(self.num_layers, x.size(0), self.hidden_size)).requires_grad_().to(device) #hidden state\n",
    "        c_0 = Variable(torch.zeros(self.num_layers, x.size(0), self.hidden_size)).requires_grad_().to(device) #internal state\n",
    "        # Propagate input through LSTM\n",
    "        norm = self.batchNorm(x)\n",
    "#         print(norm)\n",
    "        output, (hn, cn) = self.lstm(norm, (h_0, c_0)) #lstm with input, hidden, and internal state\n",
    "#         out,_ = torch.max(output,dim=1)\n",
    "        out = self.fc(output[:,-1,:])\n",
    "#         hn = hn.view(-1, self.hidden_size) #reshaping the data for Dense layer next\n",
    "#         out = self.relu(hn)\n",
    "#         out = self.fc_1(out) #first Dense\n",
    "#         out = self.relu(out) #relu\n",
    "#         out = self.fc(out) #Final Output\n",
    "        return out"
   ]
  },
  {
   "cell_type": "code",
   "execution_count": 13,
   "metadata": {},
   "outputs": [],
   "source": [
    "# Parameters\n",
    "num_epochs = 1 # epochs\n",
    "learning_rate = 0.001 #0.001 lr\n",
    "\n",
    "input_size = 3 #number of features\n",
    "hidden_size = 100 #number of features in hidden state\n",
    "num_layers = 2 #number of stacked lstm layers\n",
    "\n",
    "num_classes = 9 #number of output classes "
   ]
  },
  {
   "cell_type": "code",
   "execution_count": 14,
   "metadata": {},
   "outputs": [],
   "source": [
    "# Initialize the model and optimizer\n",
    "lstm1 = LSTM1(num_classes, input_size, hidden_size, num_layers, X_train_tensors_final.shape[1])\n",
    "lstm1.to(device)#our lstm class \n",
    "# criterion = torch.nn.MSELoss() # mean-squared error for regression\n",
    "criterion = torch.nn.CrossEntropyLoss()\n",
    "optimizer = torch.optim.Adam(lstm1.parameters(), lr=learning_rate)\n",
    "# optimizer = torch.optim.SGD(lstm1.parameters(), lr=learning_rate,momentum=0.9)"
   ]
  },
  {
   "cell_type": "code",
   "execution_count": 17,
   "metadata": {},
   "outputs": [
    {
     "name": "stdout",
     "output_type": "stream",
     "text": [
      "[0/80] Training loss: 0.3253\t Validation loss: 0.2093\n",
      "[1/80] Training loss: 0.1420\t Validation loss: 0.0943\n",
      "[2/80] Training loss: 0.0956\t Validation loss: 0.0738\n",
      "[3/80] Training loss: 0.0714\t Validation loss: 0.0546\n",
      "[4/80] Training loss: 0.0562\t Validation loss: 0.0412\n",
      "[5/80] Training loss: 0.0455\t Validation loss: 0.0358\n",
      "[6/80] Training loss: 0.0394\t Validation loss: 0.0312\n",
      "[7/80] Training loss: 0.0348\t Validation loss: 0.0280\n",
      "[8/80] Training loss: 0.0304\t Validation loss: 0.0234\n",
      "[9/80] Training loss: 0.0273\t Validation loss: 0.0260\n",
      "[10/80] Training loss: 0.0241\t Validation loss: 0.0213\n",
      "[11/80] Training loss: 0.0222\t Validation loss: 0.0231\n",
      "[12/80] Training loss: 0.0194\t Validation loss: 0.0189\n",
      "[13/80] Training loss: 0.0183\t Validation loss: 0.0196\n",
      "[14/80] Training loss: 0.0163\t Validation loss: 0.0202\n",
      "[15/80] Training loss: 0.0153\t Validation loss: 0.0139\n",
      "[16/80] Training loss: 0.0138\t Validation loss: 0.0133\n",
      "[17/80] Training loss: 0.0127\t Validation loss: 0.0145\n",
      "[18/80] Training loss: 0.0120\t Validation loss: 0.0107\n",
      "[19/80] Training loss: 0.0113\t Validation loss: 0.0186\n",
      "[20/80] Training loss: 0.0110\t Validation loss: 0.0108\n",
      "[21/80] Training loss: 0.0095\t Validation loss: 0.0116\n",
      "[22/80] Training loss: 0.0092\t Validation loss: 0.0115\n",
      "[23/80] Training loss: 0.0089\t Validation loss: 0.0165\n",
      "[24/80] Training loss: 0.0083\t Validation loss: 0.0137\n",
      "[25/80] Training loss: 0.0081\t Validation loss: 0.0102\n",
      "[26/80] Training loss: 0.0081\t Validation loss: 0.0079\n",
      "[27/80] Training loss: 0.0077\t Validation loss: 0.0110\n",
      "[28/80] Training loss: 0.0070\t Validation loss: 0.0112\n",
      "[29/80] Training loss: 0.0067\t Validation loss: 0.0083\n",
      "[30/80] Training loss: 0.0072\t Validation loss: 0.0086\n",
      "[31/80] Training loss: 0.0056\t Validation loss: 0.0077\n",
      "[32/80] Training loss: 0.0066\t Validation loss: 0.0082\n",
      "[33/80] Training loss: 0.0055\t Validation loss: 0.0089\n",
      "[34/80] Training loss: 0.0063\t Validation loss: 0.0081\n",
      "[35/80] Training loss: 0.0052\t Validation loss: 0.0070\n",
      "[36/80] Training loss: 0.0051\t Validation loss: 0.0093\n",
      "[37/80] Training loss: 0.0052\t Validation loss: 0.0066\n",
      "[38/80] Training loss: 0.0046\t Validation loss: 0.0161\n",
      "[39/80] Training loss: 0.0051\t Validation loss: 0.0106\n",
      "[40/80] Training loss: 0.0044\t Validation loss: 0.0075\n",
      "[41/80] Training loss: 0.0041\t Validation loss: 0.0071\n",
      "[42/80] Training loss: 0.0046\t Validation loss: 0.0069\n",
      "[43/80] Training loss: 0.0041\t Validation loss: 0.0072\n",
      "[44/80] Training loss: 0.0046\t Validation loss: 0.0114\n",
      "[45/80] Training loss: 0.0042\t Validation loss: 0.0082\n",
      "[46/80] Training loss: 0.0042\t Validation loss: 0.0065\n",
      "[47/80] Training loss: 0.0035\t Validation loss: 0.0079\n",
      "[48/80] Training loss: 0.0034\t Validation loss: 0.0070\n",
      "[49/80] Training loss: 0.0038\t Validation loss: 0.0073\n",
      "[50/80] Training loss: 0.0036\t Validation loss: 0.0060\n",
      "[51/80] Training loss: 0.0038\t Validation loss: 0.0068\n",
      "[52/80] Training loss: 0.0034\t Validation loss: 0.0071\n",
      "[53/80] Training loss: 0.0036\t Validation loss: 0.0061\n",
      "[54/80] Training loss: 0.0037\t Validation loss: 0.0072\n",
      "[55/80] Training loss: 0.0030\t Validation loss: 0.0077\n",
      "[56/80] Training loss: 0.0031\t Validation loss: 0.0066\n",
      "[57/80] Training loss: 0.0037\t Validation loss: 0.0063\n",
      "[58/80] Training loss: 0.0037\t Validation loss: 0.0062\n",
      "[59/80] Training loss: 0.0032\t Validation loss: 0.0066\n",
      "[60/80] Training loss: 0.0029\t Validation loss: 0.0066\n",
      "[61/80] Training loss: 0.0032\t Validation loss: 0.0113\n",
      "[62/80] Training loss: 0.0032\t Validation loss: 0.0065\n",
      "[63/80] Training loss: 0.0029\t Validation loss: 0.0073\n",
      "[64/80] Training loss: 0.0033\t Validation loss: 0.0063\n",
      "[65/80] Training loss: 0.0026\t Validation loss: 0.0061\n",
      "[66/80] Training loss: 0.0032\t Validation loss: 0.0056\n",
      "[67/80] Training loss: 0.0028\t Validation loss: 0.0066\n",
      "[68/80] Training loss: 0.0027\t Validation loss: 0.0129\n",
      "[69/80] Training loss: 0.0027\t Validation loss: 0.0065\n",
      "[70/80] Training loss: 0.0028\t Validation loss: 0.0054\n",
      "[71/80] Training loss: 0.0026\t Validation loss: 0.0074\n",
      "[72/80] Training loss: 0.0028\t Validation loss: 0.0079\n",
      "[73/80] Training loss: 0.0024\t Validation loss: 0.0077\n",
      "[74/80] Training loss: 0.0025\t Validation loss: 0.0080\n",
      "[75/80] Training loss: 0.0029\t Validation loss: 0.0064\n",
      "[76/80] Training loss: 0.0024\t Validation loss: 0.0065\n",
      "[77/80] Training loss: 0.0025\t Validation loss: 0.0106\n",
      "[78/80] Training loss: 0.0024\t Validation loss: 0.0087\n",
      "[79/80] Training loss: 0.0029\t Validation loss: 0.0062\n"
     ]
    }
   ],
   "source": [
    "# Train the model\n",
    "train_losses = []\n",
    "val_losses = []\n",
    "tb = SummaryWriter(\"runs4\")\n",
    "for epoch in range(num_epochs):\n",
    "    batch_losses = []\n",
    "    train_acc = 0.0\n",
    "    lstm1.train()\n",
    "    for inputs,labels in train_loader:\n",
    "        inputs,labels = inputs.to(device), labels.to(device)\n",
    "        labels = labels.long()\n",
    "        outputs = lstm1(inputs)\n",
    "        optimizer.zero_grad()\n",
    "        loss = criterion(outputs,labels)\n",
    "        loss.backward()\n",
    "        optimizer.step()\n",
    "        batch_losses.append(loss.item())\n",
    "    epoch_train_loss = np.mean(batch_losses)\n",
    "    tb.add_scalar(\"Training_Loss\", epoch_train_loss, epoch)\n",
    "    train_losses.append(epoch_train_loss)\n",
    "    lstm1.eval()\n",
    "    with torch.no_grad():\n",
    "        batch_val_losses = []\n",
    "        for x_val,y_val in val_loader:\n",
    "            x_val,y_val = x_val.to(device), y_val.to(device)\n",
    "            y_val = y_val.long() \n",
    "            y_pred = lstm1(x_val)\n",
    "            val_loss = criterion(y_pred,y_val)\n",
    "            batch_val_losses.append(val_loss.item())\n",
    "        validation_loss = np.mean(batch_val_losses)\n",
    "        tb.add_scalar(\"Validation_Loss\", validation_loss, epoch)\n",
    "        val_losses.append(validation_loss)\n",
    "    print(f\"[{epoch}/{num_epochs}] Training loss: {epoch_train_loss:.4f}\\t Validation loss: {validation_loss:.4f}\")\n",
    "torch.save(lstm1.state_dict(), 'StudyRegionModel.pth')\n",
    "tb.close()"
   ]
  },
  {
   "cell_type": "code",
   "execution_count": 18,
   "metadata": {},
   "outputs": [
    {
     "data": {
      "text/plain": [
       "Text(0.5, 1.0, 'Training Loss')"
      ]
     },
     "execution_count": 18,
     "metadata": {},
     "output_type": "execute_result"
    },
    {
     "data": {
      "image/png": "[encoded data removed]",
      "text/plain": [
       "<Figure size 432x288 with 1 Axes>"
      ]
     },
     "metadata": {
      "needs_background": "light"
     },
     "output_type": "display_data"
    }
   ],
   "source": [
    "plt.plot(np.array(train_losses), 'r')\n",
    "plt.title(\"Training Loss\")"
   ]
  },
  {
   "cell_type": "code",
   "execution_count": 19,
   "metadata": {},
   "outputs": [
    {
     "data": {
      "text/plain": [
       "Text(0.5, 1.0, 'Validation Loss')"
      ]
     },
     "execution_count": 19,
     "metadata": {},
     "output_type": "execute_result"
    },
    {
     "data": {
      "image/png": "[encoded data removed]",
      "text/plain": [
       "<Figure size 432x288 with 1 Axes>"
      ]
     },
     "metadata": {
      "needs_background": "light"
     },
     "output_type": "display_data"
    }
   ],
   "source": [
    "plt.plot(np.array(val_losses),'b')\n",
    "plt.title(\"Validation Loss\")"
   ]
  },
  {
   "cell_type": "code",
   "execution_count": 22,
   "metadata": {},
   "outputs": [],
   "source": [
    "lstm1.eval()\n",
    "predlist=torch.zeros(0,dtype=torch.long)\n",
    "lbllist=torch.zeros(0,dtype=torch.long)\n",
    "nb_classes = 9\n",
    "confusion_mat = torch.zeros(nb_classes,nb_classes)\n",
    "with torch.no_grad():\n",
    "    for inputs,labels in test_loader:\n",
    "        inputs,labels = inputs.to(device), labels.to(device)\n",
    "        outputs = lstm1(inputs)\n",
    "        _,predicted = torch.max(outputs.data,1)\n",
    "        predlist = torch.cat([predlist,predicted.view(-1).cpu()])\n",
    "        lbllist = torch.cat([lbllist,labels.view(-1).cpu()])\n",
    "conf_mat = confusion_matrix(lbllist.numpy(),predlist.numpy())    "
   ]
  },
  {
   "cell_type": "code",
   "execution_count": 23,
   "metadata": {},
   "outputs": [
    {
     "data": {
      "text/plain": [
       "array([[  165,     3,     0,     1,     0,     0,     1,     0,     0],\n",
       "       [    0, 16295,     2,     0,     0,     0,     0,     0,     0],\n",
       "       [    2,     7,   518,     0,     0,     0,     0,     0,     0],\n",
       "       [    0,     0,     0,  1366,     2,     0,     0,     0,     0],\n",
       "       [    0,     0,     0,     0,   101,     0,     0,     0,     0],\n",
       "       [    3,     4,     1,     0,     1,  6608,     1,     0,     0],\n",
       "       [    1,     0,     0,     0,     0,     1,   299,     1,     0],\n",
       "       [    0,     0,     0,     0,     0,     0,     0,   109,     0],\n",
       "       [    0,     0,     0,     0,     0,     2,     0,     0,     4]])"
      ]
     },
     "execution_count": 23,
     "metadata": {},
     "output_type": "execute_result"
    }
   ],
   "source": [
    "print(conf_mat)"
   ]
  },
  {
   "cell_type": "code",
   "execution_count": 24,
   "metadata": {},
   "outputs": [
    {
     "data": {
      "text/plain": [
       "<AxesSubplot:>"
      ]
     },
     "execution_count": 24,
     "metadata": {},
     "output_type": "execute_result"
    },
    {
     "data": {
      "image/png": "[encoded data removed]",
      "text/plain": [
       "<Figure size 432x288 with 2 Axes>"
      ]
     },
     "metadata": {
      "needs_background": "light"
     },
     "output_type": "display_data"
    }
   ],
   "source": [
    "import seaborn as sns\n",
    "sns.heatmap(conf_mat, annot=True)"
   ]
  },
  {
   "cell_type": "code",
   "execution_count": 25,
   "metadata": {},
   "outputs": [
    {
     "name": "stdout",
     "output_type": "stream",
     "text": [
      "[ 97.05882353  99.9877278   98.29222011  99.85380117 100.\n",
      "  99.84889695  99.00662252 100.          66.66666667]\n"
     ]
    }
   ],
   "source": [
    "class_accuracy=100*conf_mat.diagonal()/conf_mat.sum(1)\n",
    "print(class_accuracy)"
   ]
  }
 ],
 "metadata": {
  "kernelspec": {
   "display_name": "Python 3 (ipykernel)",
   "language": "python",
   "name": "python3"
  },
  "language_info": {
   "codemirror_mode": {
    "name": "ipython",
    "version": 3
   },
   "file_extension": ".py",
   "mimetype": "text/x-python",
   "name": "python",
   "nbconvert_exporter": "python",
   "pygments_lexer": "ipython3",
   "version": "3.9.7"
  }
 },
 "nbformat": 4,
 "nbformat_minor": 4
}
